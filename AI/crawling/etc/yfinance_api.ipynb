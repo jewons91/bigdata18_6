{
 "cells": [
  {
   "cell_type": "code",
   "execution_count": null,
   "metadata": {},
   "outputs": [],
   "source": [
    "# 야후파이낸스 API\n",
    "    # 일별 시세 정보 가져오기\n",
    "    # 지수, 원자재, 개별주식 등\n"
   ]
  },
  {
   "cell_type": "code",
   "execution_count": null,
   "metadata": {},
   "outputs": [],
   "source": [
    "# ticker\n",
    "    # https://finance.yahoo.com/\n",
    "    # 검색하여 티커 찾기\n",
    "\n",
    "    # ^GSPC         S&P500\n",
    "    # ^IXIC         나스닥\n",
    "\n",
    "    # ^KS11         코스피\n",
    "    # ^KQ11         코스닥\n",
    "    \n",
    "    # ^TNX          미국 국채 10년물 CBOE Interest Rate 10 Year T No\n",
    "    # ^TYX          미국 국채 30년물 Treasury Yield 30 Years\n",
    "    \n",
    "    # KRW=X         원달러 환율\n",
    "    # BTC-USD       비트코인/달러       \n",
    "\n",
    "    # GC=F          COMEX 금\n",
    "    # HG=F          COMEX 구리\n",
    "    # ZW=F          CBOT 밀\n",
    "\n",
    "    # AAPL          애플\n",
    "    # TSLA          테슬라\n",
    "    # 005930.KS     삼성전자\n",
    "    # 000660.KS     SK하이닉스\n",
    "\n",
    "# period\n",
    "    # 1mo           1달\n",
    "    # 3mo           3달\n",
    "    # 6mo           6달\n",
    "    # 1y            1년\n",
    "    # 10y           10sus\n",
    "    # max           가능한 최대 기간"
   ]
  },
  {
   "cell_type": "code",
   "execution_count": 2,
   "metadata": {},
   "outputs": [],
   "source": [
    "import yfinance as yf # 아나콘다프롬프트 pip install yfinance"
   ]
  },
  {
   "cell_type": "code",
   "execution_count": 3,
   "metadata": {},
   "outputs": [
    {
     "name": "stdout",
     "output_type": "stream",
     "text": [
      "                                   Open          High           Low  \\\n",
      "Date                                                                  \n",
      "2000-01-04 00:00:00+09:00   4369.602055   4449.711426   4121.991272   \n",
      "2000-01-05 00:00:00+09:00   4223.944665   4413.293909   4020.030095   \n",
      "2000-01-06 00:00:00+09:00   4187.533059   4209.381057   4063.727734   \n",
      "2000-01-07 00:00:00+09:00   4049.165196   4129.274579   3903.511772   \n",
      "2000-01-10 00:00:00+09:00   4078.294248   4202.099609   4063.728912   \n",
      "...                                 ...           ...           ...   \n",
      "2024-07-08 00:00:00+09:00  87900.000000  88600.000000  86900.000000   \n",
      "2024-07-09 00:00:00+09:00  87800.000000  88200.000000  86900.000000   \n",
      "2024-07-10 00:00:00+09:00  87600.000000  88000.000000  87100.000000   \n",
      "2024-07-11 00:00:00+09:00  88500.000000  88800.000000  86700.000000   \n",
      "2024-07-12 00:00:00+09:00  85900.000000  86100.000000  84100.000000   \n",
      "\n",
      "                                  Close    Volume  Dividends  Stock Splits  \n",
      "Date                                                                        \n",
      "2000-01-04 00:00:00+09:00   4449.711426  74195000        0.0           0.0  \n",
      "2000-01-05 00:00:00+09:00   4063.726074  74680000        0.0           0.0  \n",
      "2000-01-06 00:00:00+09:00   4092.858398  54390000        0.0           0.0  \n",
      "2000-01-07 00:00:00+09:00   4034.599854  40305000        0.0           0.0  \n",
      "2000-01-10 00:00:00+09:00   4202.099609  46880000        0.0           0.0  \n",
      "...                                 ...       ...        ...           ...  \n",
      "2024-07-08 00:00:00+09:00  87400.000000  24035809        0.0           0.0  \n",
      "2024-07-09 00:00:00+09:00  87800.000000  21336201        0.0           0.0  \n",
      "2024-07-10 00:00:00+09:00  87800.000000  17813847        0.0           0.0  \n",
      "2024-07-11 00:00:00+09:00  87600.000000  24677608        0.0           0.0  \n",
      "2024-07-12 00:00:00+09:00  84400.000000  25821504        0.0           0.0  \n",
      "\n",
      "[6148 rows x 7 columns]\n"
     ]
    }
   ],
   "source": [
    "ticker = \"ZW=F\"\n",
    "data = yf.Ticker(ticker)\n",
    "history = data.history(period=\"max\")\n",
    "print(history)"
   ]
  },
  {
   "cell_type": "code",
   "execution_count": 4,
   "metadata": {},
   "outputs": [],
   "source": [
    "history.to_csv(f'yfinance_api_{ticker}.csv', encoding='utf-8')"
   ]
  }
 ],
 "metadata": {
  "kernelspec": {
   "display_name": "data-dev",
   "language": "python",
   "name": "python3"
  },
  "language_info": {
   "codemirror_mode": {
    "name": "ipython",
    "version": 3
   },
   "file_extension": ".py",
   "mimetype": "text/x-python",
   "name": "python",
   "nbconvert_exporter": "python",
   "pygments_lexer": "ipython3",
   "version": "3.10.14"
  }
 },
 "nbformat": 4,
 "nbformat_minor": 2
}
